{
 "cells": [
  {
   "cell_type": "code",
   "execution_count": 31,
   "metadata": {},
   "outputs": [
    {
     "name": "stdout",
     "output_type": "stream",
     "text": [
      "0.95\n",
      "[1.         0.93333333 1.         0.93333333 0.93333333 0.86666667\n",
      " 0.93333333 1.         1.         1.        ]\n"
     ]
    }
   ],
   "source": [
    "from sklearn.datasets import load_iris\n",
    "from sklearn.tree import DecisionTreeClassifier\n",
    "from sklearn.model_selection import train_test_split\n",
    "from sklearn.model_selection import cross_val_score\n",
    "\n",
    "dataset = load_iris()\n",
    "\n",
    "X_train, X_test, y_train, y_test = train_test_split(dataset.data, dataset.target, test_size=0.4, random_state=0)\n",
    "\n",
    "clf = DecisionTreeClassifier(random_state=0)\n",
    "\n",
    "clf = clf.fit(X_train, y_train)\n",
    "score = clf.score(X_test, y_test) \n",
    "\n",
    "print score\n",
    "\n",
    "cv_score = cross_val_score(clf, dataset.data, dataset.target, cv=10)\n",
    "\n",
    "print cv_score\n",
    "#c1 = clf.predict([5.3, 4.8, 1.3, 0.3])\n",
    "#c2 = clf.predict([5.4, 3.9, 1.3, 0.3])\n",
    "#c3 = clf.predict([6.3, 3.3, 4.6, 1.2])\n",
    "#c4 = clf.predict([6.4, 2.1, 4.2, 1.3])\n",
    "#c5 = clf.predict([5.8, 2.7, 5.1, 1.9])\n",
    "#c6 = clf.predict([7.2, 2.5, 5.3, 2.5])\n",
    "\n",
    "#print \"c1: {}\\n\",dataset[\"target_names\"][c1]\n",
    "#print \"c2: {}\\n\",dataset[\"target_names\"][c2]\n",
    "#print \"c3: {}\\n\",dataset[\"target_names\"][c3]\n",
    "#print \"c4: {}\\n\",dataset[\"target_names\"][c4]\n",
    "#print \"c5: {}\\n\",dataset[\"target_names\"][c5]\n",
    "#print \"c6: {}\\n\",dataset[\"target_names\"][c6]\n",
    "\n"
   ]
  }
 ],
 "metadata": {
  "kernelspec": {
   "display_name": "Python 2",
   "language": "python",
   "name": "python2"
  },
  "language_info": {
   "codemirror_mode": {
    "name": "ipython",
    "version": 2
   },
   "file_extension": ".py",
   "mimetype": "text/x-python",
   "name": "python",
   "nbconvert_exporter": "python",
   "pygments_lexer": "ipython2",
   "version": "2.7.14"
  }
 },
 "nbformat": 4,
 "nbformat_minor": 2
}
