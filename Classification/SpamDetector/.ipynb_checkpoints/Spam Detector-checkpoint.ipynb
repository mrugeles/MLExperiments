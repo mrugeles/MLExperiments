{
 "cells": [
  {
   "cell_type": "markdown",
   "metadata": {},
   "source": [
    "## Preprocessing Data\n"
   ]
  },
  {
   "cell_type": "code",
   "execution_count": 14,
   "metadata": {},
   "outputs": [
    {
     "data": {
      "text/html": [
       "<div>\n",
       "<style scoped>\n",
       "    .dataframe tbody tr th:only-of-type {\n",
       "        vertical-align: middle;\n",
       "    }\n",
       "\n",
       "    .dataframe tbody tr th {\n",
       "        vertical-align: top;\n",
       "    }\n",
       "\n",
       "    .dataframe thead th {\n",
       "        text-align: right;\n",
       "    }\n",
       "</style>\n",
       "<table border=\"1\" class=\"dataframe\">\n",
       "  <thead>\n",
       "    <tr style=\"text-align: right;\">\n",
       "      <th></th>\n",
       "      <th>class</th>\n",
       "      <th>message</th>\n",
       "    </tr>\n",
       "  </thead>\n",
       "  <tbody>\n",
       "    <tr>\n",
       "      <th>0</th>\n",
       "      <td>not_spam</td>\n",
       "      <td>Subject: re : 6 . 293 word own oppositen't qui...</td>\n",
       "    </tr>\n",
       "    <tr>\n",
       "      <th>1</th>\n",
       "      <td>not_spam</td>\n",
       "      <td>Subject: conf : salsa iiigreeting salsa organi...</td>\n",
       "    </tr>\n",
       "    <tr>\n",
       "      <th>2</th>\n",
       "      <td>not_spam</td>\n",
       "      <td>Subject: re : 6 . 189 innateness / language &amp; ...</td>\n",
       "    </tr>\n",
       "    <tr>\n",
       "      <th>3</th>\n",
       "      <td>spam</td>\n",
       "      <td>Subject: hereuniversity degree programs increa...</td>\n",
       "    </tr>\n",
       "    <tr>\n",
       "      <th>4</th>\n",
       "      <td>not_spam</td>\n",
       "      <td>Subject: bisfai deadline extension !bisfai dea...</td>\n",
       "    </tr>\n",
       "  </tbody>\n",
       "</table>\n",
       "</div>"
      ],
      "text/plain": [
       "      class                                            message\n",
       "0  not_spam  Subject: re : 6 . 293 word own oppositen't qui...\n",
       "1  not_spam  Subject: conf : salsa iiigreeting salsa organi...\n",
       "2  not_spam  Subject: re : 6 . 189 innateness / language & ...\n",
       "3      spam  Subject: hereuniversity degree programs increa...\n",
       "4  not_spam  Subject: bisfai deadline extension !bisfai dea..."
      ]
     },
     "execution_count": 14,
     "metadata": {},
     "output_type": "execute_result"
    }
   ],
   "source": [
    "import pandas as pd\n",
    "from sklearn.feature_extraction.text import CountVectorizer\n",
    "\n",
    "df=pd.read_csv('spam_dataset.csv', sep=',')\n",
    "df.head()"
   ]
  },
  {
   "cell_type": "code",
   "execution_count": 23,
   "metadata": {},
   "outputs": [
    {
     "data": {
      "text/plain": [
       "MultinomialNB(alpha=1.0, class_prior=None, fit_prior=True)"
      ]
     },
     "execution_count": 23,
     "metadata": {},
     "output_type": "execute_result"
    }
   ],
   "source": [
    "from sklearn.model_selection import train_test_split\n",
    "from sklearn.naive_bayes import MultinomialNB\n",
    "vectorizer = CountVectorizer()\n",
    "vector = vectorizer.fit_transform(df[\"message\"].values)\n",
    "\n",
    "X_train, X_test, y_train, y_test = train_test_split(vector, df[\"class\"], test_size=0.4, random_state=0)\n",
    "\n",
    "classifier = MultinomialNB()\n",
    "classifier.fit(X_train, y_train)\n",
    "\n",
    "\n"
   ]
  },
  {
   "cell_type": "code",
   "execution_count": 28,
   "metadata": {},
   "outputs": [
    {
     "name": "stdout",
     "output_type": "stream",
     "text": [
      "['spam' 'not_spam']\n",
      "0.9896373056994818\n"
     ]
    }
   ],
   "source": [
    "\n",
    "\n",
    "examples = [\"Free viagra now!!!\", \"Subject: book : japanese linguistic japanese linguistic hamano , shoko ( george washington university ) ; sound-symbolic system japanese ; isbn : 1-57586 - 144 - 5 ( paper ) , 1-57586 - 144 - 5 ( cloth ) ; csli publication 1998 : http : / / csli-www . stanford . edu / publication / email : pub @ roslin . stanford . edu . book first theoretical study sound-symbolic expression japanese commonly mimetic word . identify stringent linguistic constraint expression demonstrate form intricate linguistic system rather collection ad hoc expression . carefully identify sound-symbolic meaning sound unit elusive mean each sound-symbolic expression fully comprehensible . addition , book describe number interest fact history japanese language mimetic word reveal . * * * * * * * * * * * * * * * * * * * * * * * * * csli publication ventura hall stanford university stanford , ca 94305-4115 telephone ( 650 ) 723-1839 fax ( 650 ) 725-2166 http : / / csli-www . stanford . edu / publication\"]\n",
    "examples_vector = vectorizer.transform(examples)\n",
    "predictions = classifier.predict(examples_vector)\n",
    "\n",
    "print predictions\n",
    "score = classifier.score(X_test, y_test) \n",
    "\n",
    "print score\n"
   ]
  }
 ],
 "metadata": {
  "kernelspec": {
   "display_name": "Python 2",
   "language": "python",
   "name": "python2"
  },
  "language_info": {
   "codemirror_mode": {
    "name": "ipython",
    "version": 2
   },
   "file_extension": ".py",
   "mimetype": "text/x-python",
   "name": "python",
   "nbconvert_exporter": "python",
   "pygments_lexer": "ipython2",
   "version": "2.7.14"
  }
 },
 "nbformat": 4,
 "nbformat_minor": 2
}
